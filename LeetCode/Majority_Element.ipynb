{
 "cells": [
  {
   "cell_type": "markdown",
   "id": "6980b0c6-8820-404c-a516-4f176e16689c",
   "metadata": {},
   "source": [
    "### **Question Platform: LeetCode** \n",
    "**Category : Easy** \n",
    "\n",
    "---"
   ]
  },
  {
   "cell_type": "markdown",
   "id": "b3c96cb3-9419-44e5-83af-2d05445ef955",
   "metadata": {},
   "source": [
    "#### **Approach 1: Using Python’s `Counter` to Find the Majority Element**\n",
    "\n",
    "This approach uses the `Counter` class from Python’s `collections` module to count the frequency of each element in the array, and then identifies the element that appears more than $⌊n / 2⌋$ times — the majority element.\n",
    "\n",
    "---\n",
    "\n",
    "**Algorithm Explanation:**\n",
    "\n",
    "1. **Count Frequencies:**\n",
    "   Use `Counter(nums)` to get a dictionary-like object with elements as keys and their frequencies as values.\n",
    "\n",
    "2. **Check for Majority Element:**\n",
    "   Iterate through the frequency dictionary. For each element, check if its count is greater than `len(nums) // 2`.\n",
    "\n",
    "3. **Return the Majority Element:**\n",
    "   As per the problem guarantee, a majority element always exists, so return the one that satisfies the condition.\n",
    "\n",
    "---\n",
    "\n",
    "**Time Complexity:**\n",
    "\n",
    "* Building the frequency map using `Counter`: **O(n)**\n",
    "* Iterating over the dictionary to find the majority: **O(n)** in the worst case\n",
    "  **Total Time Complexity:** **O(n)**\n",
    "\n",
    "**Space Complexity:**\n",
    "\n",
    "* Extra space used by the `Counter` dictionary: **O(n)** in the worst case (when all elements are unique)\n",
    "\n",
    "---"
   ]
  },
  {
   "cell_type": "code",
   "execution_count": null,
   "id": "afc83b80-e42b-4b97-be29-8e445443304b",
   "metadata": {},
   "outputs": [],
   "source": [
    "from collections import Counter\n",
    "\n",
    "class Solution:\n",
    "    def majorityElement(self, nums: List[int]) -> int:\n",
    "        freq = Counter(nums)\n",
    "\n",
    "        for value, frequency in freq.items():\n",
    "            if frequency > len(nums)//2:\n",
    "                return value"
   ]
  },
  {
   "cell_type": "markdown",
   "id": "3cd5a6a4-6441-4595-ba0b-6209f162b984",
   "metadata": {},
   "source": [
    "---\n",
    "\n",
    "#### **Approach 2: Boyer-Moore Voting Algorithm to Find the Majority Element**\n",
    "\n",
    "This solution applies the **Boyer-Moore Voting Algorithm**, a space-efficient and optimal method for finding the majority element—an element that appears more than $⌊n / 2⌋$ times—when it is guaranteed to exist.\n",
    "\n",
    "---\n",
    "\n",
    "**Algorithm Explanation:**\n",
    "\n",
    "1. **Initialize Candidate and Counter:**\n",
    "\n",
    "   * `element` is set to `0` and `element_count` to `0`. These represent the current majority candidate and its count.\n",
    "\n",
    "2. **Traverse the Array:**\n",
    "\n",
    "   * For each number in `nums`:\n",
    "\n",
    "     * If `element_count` is `0`, assign the current number as the new candidate.\n",
    "     * If the current number equals the candidate (`element`), increment `element_count`.\n",
    "     * Otherwise, decrement `element_count`.\n",
    "\n",
    "3. **Return the Candidate:**\n",
    "\n",
    "   * After one pass, the value in `element` is the majority element (guaranteed to exist).\n",
    "\n",
    "---\n",
    "\n",
    "**Time Complexity:**\n",
    "\n",
    "* Iterating through the array once: **O(n)**\n",
    "  **Total Time Complexity:** **O(n)**\n",
    "\n",
    "**Space Complexity:**\n",
    "\n",
    "* No extra data structures used: **O(1)**\n",
    "  **Total Space Complexity:** **O(1)**\n",
    "\n",
    "---"
   ]
  },
  {
   "cell_type": "code",
   "execution_count": null,
   "id": "a9c05e2e-faa0-4255-a6f2-f100be7965c3",
   "metadata": {},
   "outputs": [],
   "source": [
    "from collections import Counter\n",
    "\n",
    "class Solution:\n",
    "    def majorityElement(self, nums: List[int]) -> int:\n",
    "        element = 0\n",
    "        element_count = 0\n",
    "\n",
    "        for i in range(len(nums)):\n",
    "\n",
    "            if element_count == 0 :\n",
    "                element = nums[i]\n",
    "\n",
    "            if element == nums[i]:\n",
    "                element_count +=1\n",
    "            else:\n",
    "                element_count -=1\n",
    "\n",
    "        return element"
   ]
  }
 ],
 "metadata": {
  "kernelspec": {
   "display_name": "Python 3 (ipykernel)",
   "language": "python",
   "name": "python3"
  },
  "language_info": {
   "codemirror_mode": {
    "name": "ipython",
    "version": 3
   },
   "file_extension": ".py",
   "mimetype": "text/x-python",
   "name": "python",
   "nbconvert_exporter": "python",
   "pygments_lexer": "ipython3",
   "version": "3.12.3"
  }
 },
 "nbformat": 4,
 "nbformat_minor": 5
}
