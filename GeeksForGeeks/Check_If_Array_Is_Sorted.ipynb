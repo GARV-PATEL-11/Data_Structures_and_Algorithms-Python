{
 "cells": [
  {
   "cell_type": "markdown",
   "id": "4792647f-ad10-4ce6-9b2b-bff7fadc98b2",
   "metadata": {},
   "source": [
    "### **Question Platform: GFG** \n",
    "**Category : Easy** \n",
    "\n",
    "---"
   ]
  },
  {
   "cell_type": "markdown",
   "id": "5324bcad-9536-43d1-a812-fb740472870e",
   "metadata": {},
   "source": [
    "#### **Approach 1: Using Python’s Built-in `sorted()` to Check if Array is Sorted**\n",
    "\n",
    "This approach leverages Python’s built-in `sorted()` function to determine if the array is already sorted in **non-decreasing** order by comparing it to its sorted version.\n",
    "\n",
    "---\n",
    "\n",
    "**Algorithm Explanation:**\n",
    "\n",
    "1. **Use `sorted()` to Get a Sorted Copy:**\n",
    "   The `sorted(arr)` function returns a new list with elements of `arr` in ascending order.\n",
    "\n",
    "2. **Compare Original with Sorted List:**\n",
    "   If `arr` is equal to `sorted(arr)`, it means the original array is already sorted.\n",
    "\n",
    "3. **Return the Result of Comparison:**\n",
    "   The expression `arr == sorted(arr)` returns `True` if sorted, `False` otherwise.\n",
    "\n",
    "---\n",
    "\n",
    "**Time Complexity:**\n",
    "\n",
    "* Sorting the array using `sorted()`: **O(n log n)**\n",
    "* Comparing two lists: **O(n)**\n",
    "  **Total Time Complexity:** **O(n log n)**\n",
    "\n",
    "**Space Complexity:**\n",
    "\n",
    "* Additional space for the sorted copy: **O(n)**\n",
    "\n",
    "---\n"
   ]
  },
  {
   "cell_type": "code",
   "execution_count": 1,
   "id": "48cfa90d-a95b-448a-8fef-718715cdca18",
   "metadata": {},
   "outputs": [],
   "source": [
    "class Solution:\n",
    "    def isSorted(self, arr) -> bool:\n",
    "        # code here\n",
    "        return arr == sorted(arr)"
   ]
  },
  {
   "cell_type": "markdown",
   "id": "a649633c-7ba4-43a8-9b05-41c17fe264d6",
   "metadata": {},
   "source": [
    "#### **Approach 2: Linear Scan to Check if Array is Sorted**\n",
    "\n",
    "This approach checks whether the given array is sorted in **non-decreasing** order by iterating through the elements and comparing each element with its previous one.\n",
    "\n",
    "---\n",
    "\n",
    "**Algorithm Explanation:**\n",
    "\n",
    "1. **Iterate Through the Array:**\n",
    "   Start from index `1` and iterate through the array using a loop.\n",
    "\n",
    "2. **Compare Consecutive Elements:**\n",
    "   For each element `arr[i]`, check if it's smaller than the previous element `arr[i - 1]`.\n",
    "\n",
    "3. **Early Exit on Disorder:**\n",
    "   If any element is found such that `arr[i] < arr[i - 1]`, the array is not sorted, so return `False`.\n",
    "\n",
    "4. **Return True if No Disorder Found:**\n",
    "   If the loop completes without returning `False`, the array is sorted, so return `True`.\n",
    "\n",
    "---\n",
    "\n",
    "**Time Complexity:**\n",
    "\n",
    "* Iterating through the array once: **O(n)**\n",
    "  **Total Time Complexity:** **O(n)**\n",
    "\n",
    "**Space Complexity:**\n",
    "\n",
    "* No extra space used: **O(1)**\n",
    "\n",
    "---"
   ]
  },
  {
   "cell_type": "code",
   "execution_count": 2,
   "id": "25dafe2b-9e5e-429b-a3ea-b9c324f40a4e",
   "metadata": {},
   "outputs": [],
   "source": [
    "class Solution:\n",
    "    def isSorted(self, arr) -> bool:\n",
    "        # code here\n",
    "        for i in range(1,len(arr)):\n",
    "            if arr[i] < arr[i-1]:\n",
    "                return False\n",
    "        return True"
   ]
  }
 ],
 "metadata": {
  "kernelspec": {
   "display_name": "Python 3",
   "language": "python",
   "name": "python3"
  },
  "language_info": {
   "codemirror_mode": {
    "name": "ipython",
    "version": 3
   },
   "file_extension": ".py",
   "mimetype": "text/x-python",
   "name": "python",
   "nbconvert_exporter": "python",
   "pygments_lexer": "ipython3",
   "version": "3.12.1"
  }
 },
 "nbformat": 4,
 "nbformat_minor": 5
}
