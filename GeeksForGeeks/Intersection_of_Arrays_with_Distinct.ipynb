{
 "cells": [
  {
   "cell_type": "markdown",
   "id": "d1907d38-adea-47b6-b987-e39acf3a941e",
   "metadata": {},
   "source": [
    "### **Question Platform: GFG** \n",
    "**Category : Easy** \n",
    "\n",
    "---"
   ]
  },
  {
   "cell_type": "markdown",
   "id": "ecdc6161-beee-4848-8c11-d589e2496a6e",
   "metadata": {},
   "source": [
    "\n",
    "### **Approach 1: Set Intersection**\n",
    "\n",
    "This solution utilizes **Python’s built-in set data structure** to efficiently find the **common elements** between two unsorted arrays of distinct elements.\n",
    "\n",
    "---\n",
    "\n",
    "**Algorithm Description**\n",
    "\n",
    "Given arrays `a[]` and `b[]` (with all elements distinct):\n",
    "\n",
    "1. Convert both arrays to sets using `set(a)` and `set(b)`.\n",
    "2. Compute the **intersection** using `&` (or `.intersection()`).\n",
    "3. Return the **size** of the resulting set using `len()`.\n",
    "\n",
    "---\n",
    "\n",
    "**Time and Space Complexity Analysis**\n",
    "\n",
    "| Complexity | Explanation                                                 |\n",
    "| ---------- | ----------------------------------------------------------- |\n",
    "| **Time**   | `O(n + m)` – Converting to sets and computing intersection. |\n",
    "| **Space**  | `O(n + m)` – Additional space for storing both sets.        |\n",
    "\n",
    "---\n",
    "\n",
    "**When Should You Prefer This?**\n",
    "\n",
    "Use this approach when:\n",
    "\n",
    "* Arrays are **unsorted** and contain **distinct** elements.\n",
    "* You need a **concise and efficient** solution.\n",
    "* You want to **avoid nested loops** or manual lookups.\n",
    "\n",
    "---\n"
   ]
  },
  {
   "cell_type": "code",
   "execution_count": 1,
   "id": "acd0ffeb-bc48-4f8c-8387-1f18a25b239f",
   "metadata": {},
   "outputs": [],
   "source": [
    "class Solution:\n",
    "    def intersectSize(self,a, b):\n",
    "        # code here\n",
    "        return len(set(a) & set(b))"
   ]
  },
  {
   "cell_type": "markdown",
   "id": "c91de1d5-6589-442d-b7aa-0a84affd0038",
   "metadata": {},
   "source": [
    "\n",
    "---\n",
    "\n",
    "### **Approach 2: Hash Set with One-Pass Lookup**\n",
    "\n",
    "**Idea**: Store one array’s elements in a hash set and iterate over the second array to check for common elements, counting matches **only once**.\n",
    "\n",
    "---\n",
    "\n",
    "**Algorithm Description**\n",
    "\n",
    "1. Add all elements from array `a[]` to a set: `seen = set(a)`.\n",
    "2. Initialize a counter `count = 0`.\n",
    "3. Iterate through array `b[]`, and for each element:\n",
    "\n",
    "   * If it's in `seen`, increment `count` and remove it from `seen` (to avoid duplicates).\n",
    "\n",
    "---\n",
    "\n",
    "**Why This Is Good ?**\n",
    "\n",
    "* More **memory efficient** if `b[]` is very large, as it avoids building two full sets.\n",
    "* Slightly **faster** in practice due to avoiding set intersection overhead.\n",
    "\n",
    "---\n",
    "\n",
    "**Time and Space Complexity**\n",
    "\n",
    "| Complexity | Explanation                                                |\n",
    "| ---------- | ---------------------------------------------------------- |\n",
    "| **Time**   | `O(n + m)` – One pass to build the set, one pass to check. |\n",
    "| **Space**  | `O(n)` – Only one set created, not two like in set-based.  |\n",
    "\n",
    "---\n",
    "\n",
    "**When to Prefer This?**\n",
    "\n",
    "Use this approach when:\n",
    "\n",
    "* You want slightly **lower space usage**.\n",
    "* Arrays are **distinct** but **very large**, and memory is a concern.\n",
    "* You want to avoid relying on Python's `set.intersection()` behavior.\n",
    "\n",
    "---\n"
   ]
  },
  {
   "cell_type": "code",
   "execution_count": 2,
   "id": "d10928e3-ad2b-4ed0-a2a2-bb844790120a",
   "metadata": {},
   "outputs": [],
   "source": [
    "class Solution:\n",
    "    def intersectSize(self, a, b):\n",
    "        seen = set(a)\n",
    "        count = 0\n",
    "        for val in b:\n",
    "            if val in seen:\n",
    "                count += 1\n",
    "                seen.remove(val)\n",
    "        return count\n"
   ]
  }
 ],
 "metadata": {
  "kernelspec": {
   "display_name": "Python 3 (ipykernel)",
   "language": "python",
   "name": "python3"
  },
  "language_info": {
   "codemirror_mode": {
    "name": "ipython",
    "version": 3
   },
   "file_extension": ".py",
   "mimetype": "text/x-python",
   "name": "python",
   "nbconvert_exporter": "python",
   "pygments_lexer": "ipython3",
   "version": "3.12.3"
  }
 },
 "nbformat": 4,
 "nbformat_minor": 5
}
