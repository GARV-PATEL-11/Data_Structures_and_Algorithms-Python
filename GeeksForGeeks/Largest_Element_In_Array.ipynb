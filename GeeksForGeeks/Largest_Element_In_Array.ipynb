{
 "cells": [
  {
   "cell_type": "markdown",
   "id": "ec8297a5-f648-4adc-8202-46a30ace5bfe",
   "metadata": {},
   "source": [
    "### **Question Platform: GFG** \n",
    "**Category : Basic** \n",
    "\n",
    "---"
   ]
  },
  {
   "cell_type": "markdown",
   "id": "256e0778-7b0d-42bc-9ae2-0ee313f14808",
   "metadata": {},
   "source": [
    "#### **Approach 1: Using Built-in `max()` Function**\n",
    "This approach leverages Python’s built-in `max()` function to directly obtain the maximum value from the list.\n",
    "\n",
    "```python\n",
    "# Python Syntax\n",
    "max_value = max(nums)\n",
    "```\n",
    "**Time Complexity:**\n",
    "\n",
    "> **O(n)** — The `max()` function iterates through the entire list once to find the maximum value.\n",
    "\n",
    "**Space Complexity:**\n",
    "\n",
    "> **O(1)** — No extra space is used apart from a variable to store the result.\n"
   ]
  },
  {
   "cell_type": "code",
   "execution_count": null,
   "id": "bc92aca8-cdc1-461d-b145-1fd76827f179",
   "metadata": {},
   "outputs": [],
   "source": [
    "class Solution:\n",
    "    def largest(self, arr):\n",
    "        max(arr)"
   ]
  },
  {
   "cell_type": "markdown",
   "id": "a8ea2e8f-7607-4c7c-9485-079c6a213bcd",
   "metadata": {},
   "source": [
    "---\n",
    "#### **Approach 2: Iterative Comparison Using a `max_value` Variable**\n",
    "\n",
    "This approach manually finds the maximum value by iterating through the list and updating a `max_value` variable whenever a larger element is found.\n",
    "\n",
    "**Time Complexity:**\n",
    "\n",
    "> **O(n)** — The loop traverses each element of the list exactly once.\n",
    "\n",
    "**Space Complexity:**\n",
    "\n",
    "> **O(1)** — Only a single variable (`max_value`) is used for storage, regardless of input size.\n",
    "\n",
    "**Note:**\n",
    "This method works correctly only if all numbers in `arr` are non-negative. If negative numbers are possible, initialize `max_value = float('-inf')`.\n"
   ]
  },
  {
   "cell_type": "code",
   "execution_count": null,
   "id": "48197ae1-fa00-40f2-bd7f-2befdaa7dc90",
   "metadata": {},
   "outputs": [],
   "source": [
    "class Solution:\n",
    "    def largest(self, arr):\n",
    "        max_value = 0\n",
    "        for i in range(len(arr)):\n",
    "            if arr[i] > max_value:\n",
    "                max_value = arr[i]\n",
    "        return max_value"
   ]
  }
 ],
 "metadata": {
  "kernelspec": {
   "display_name": "Python 3 (ipykernel)",
   "language": "python",
   "name": "python3"
  },
  "language_info": {
   "codemirror_mode": {
    "name": "ipython",
    "version": 3
   },
   "file_extension": ".py",
   "mimetype": "text/x-python",
   "name": "python",
   "nbconvert_exporter": "python",
   "pygments_lexer": "ipython3",
   "version": "3.12.3"
  }
 },
 "nbformat": 4,
 "nbformat_minor": 5
}
